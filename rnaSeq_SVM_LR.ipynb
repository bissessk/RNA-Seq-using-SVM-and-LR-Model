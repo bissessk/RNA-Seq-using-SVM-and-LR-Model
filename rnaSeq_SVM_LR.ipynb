{
 "cells": [
  {
   "cell_type": "markdown",
   "metadata": {},
   "source": [
    "# **RNA-Seq Using SVM and Logistic Regression**\n",
    " ## Kieran Bissessar (kb2784)"
   ]
  },
  {
   "cell_type": "markdown",
   "metadata": {},
   "source": [
    "RNA-seq is a method of detecting gene transcript abundance. For a given sample, the number of sequencing reads matching a specific gene is reported. In this dataset, the normalized RNA-seq counts have been provided for over 20,000 genes from different mutant samples. Our goal is to be able to determine the mutation given a set of values for the different genes ( 20,000+ )."
   ]
  },
  {
   "cell_type": "markdown",
   "metadata": {},
   "source": [
    "## 1 Read in RNA-Seq Dataset"
   ]
  },
  {
   "cell_type": "code",
   "execution_count": 5,
   "metadata": {},
   "outputs": [
    {
     "name": "stdout",
     "output_type": "stream",
     "text": [
      "Data head :\n",
      "  Unnamed: 0  gene_0    gene_1    gene_2    gene_3     gene_4  gene_5  \\\n",
      "0   sample_0     0.0  2.017209  3.265527  5.478487  10.431999     0.0   \n",
      "1   sample_1     0.0  0.592732  1.588421  7.586157   9.623011     0.0   \n",
      "2   sample_2     0.0  3.511759  4.327199  6.881787   9.870730     0.0   \n",
      "3   sample_3     0.0  3.663618  4.507649  6.659068  10.196184     0.0   \n",
      "4   sample_4     0.0  2.655741  2.821547  6.539454   9.738265     0.0   \n",
      "\n",
      "     gene_6    gene_7  gene_8  ...  gene_20521  gene_20522  gene_20523  \\\n",
      "0  7.175175  0.591871     0.0  ...    4.926711    8.210257    9.723516   \n",
      "1  6.816049  0.000000     0.0  ...    4.593372    7.323865    9.740931   \n",
      "2  6.972130  0.452595     0.0  ...    5.125213    8.127123   10.908640   \n",
      "3  7.843375  0.434882     0.0  ...    6.076566    8.792959   10.141520   \n",
      "4  6.566967  0.360982     0.0  ...    5.996032    8.891425   10.373790   \n",
      "\n",
      "   gene_20524  gene_20525  gene_20526  gene_20527  gene_20528  gene_20529  \\\n",
      "0    7.220030    9.119813   12.003135    9.650743    8.921326    5.286759   \n",
      "1    6.256586    8.381612   12.674552   10.517059    9.397854    2.094168   \n",
      "2    5.401607    9.911597    9.045255    9.788359   10.090470    1.683023   \n",
      "3    8.942805    9.601208   11.392682    9.694814    9.684365    3.292001   \n",
      "4    7.181162    9.846910   11.922439    9.217749    9.461191    5.110372   \n",
      "\n",
      "   gene_20530  \n",
      "0         0.0  \n",
      "1         0.0  \n",
      "2         0.0  \n",
      "3         0.0  \n",
      "4         0.0  \n",
      "\n",
      "[5 rows x 20532 columns]\n",
      "\n",
      "\n",
      "Labels head :\n",
      "  Unnamed: 0 Class\n",
      "0   sample_0  PRAD\n",
      "1   sample_1  LUAD\n",
      "2   sample_2  PRAD\n",
      "3   sample_3  PRAD\n",
      "4   sample_4  BRCA\n"
     ]
    }
   ],
   "source": [
    "import pandas as pd;\n",
    "\n",
    "data = pd.read_csv(\"data.csv\");\n",
    "print(\"Data head :\");\n",
    "print(data.head());\n",
    "\n",
    "labels = pd.read_csv(\"labels.csv\");\n",
    "print(\"\\n\\nLabels head :\");\n",
    "print(labels.head());"
   ]
  },
  {
   "cell_type": "markdown",
   "metadata": {},
   "source": [
    "## 2 Merge data.csv and labels.csv into a single data frame"
   ]
  },
  {
   "cell_type": "code",
   "execution_count": 6,
   "metadata": {},
   "outputs": [
    {
     "name": "stdout",
     "output_type": "stream",
     "text": [
      "  Unnamed: 0 Class  gene_0    gene_1    gene_2    gene_3     gene_4  gene_5  \\\n",
      "0   sample_0  PRAD     0.0  2.017209  3.265527  5.478487  10.431999     0.0   \n",
      "1   sample_1  LUAD     0.0  0.592732  1.588421  7.586157   9.623011     0.0   \n",
      "2   sample_2  PRAD     0.0  3.511759  4.327199  6.881787   9.870730     0.0   \n",
      "3   sample_3  PRAD     0.0  3.663618  4.507649  6.659068  10.196184     0.0   \n",
      "4   sample_4  BRCA     0.0  2.655741  2.821547  6.539454   9.738265     0.0   \n",
      "\n",
      "     gene_6    gene_7  ...  gene_20521  gene_20522  gene_20523  gene_20524  \\\n",
      "0  7.175175  0.591871  ...    4.926711    8.210257    9.723516    7.220030   \n",
      "1  6.816049  0.000000  ...    4.593372    7.323865    9.740931    6.256586   \n",
      "2  6.972130  0.452595  ...    5.125213    8.127123   10.908640    5.401607   \n",
      "3  7.843375  0.434882  ...    6.076566    8.792959   10.141520    8.942805   \n",
      "4  6.566967  0.360982  ...    5.996032    8.891425   10.373790    7.181162   \n",
      "\n",
      "   gene_20525  gene_20526  gene_20527  gene_20528  gene_20529  gene_20530  \n",
      "0    9.119813   12.003135    9.650743    8.921326    5.286759         0.0  \n",
      "1    8.381612   12.674552   10.517059    9.397854    2.094168         0.0  \n",
      "2    9.911597    9.045255    9.788359   10.090470    1.683023         0.0  \n",
      "3    9.601208   11.392682    9.694814    9.684365    3.292001         0.0  \n",
      "4    9.846910   11.922439    9.217749    9.461191    5.110372         0.0  \n",
      "\n",
      "[5 rows x 20533 columns]\n"
     ]
    }
   ],
   "source": [
    "df = pd.merge(labels,\n",
    "              data,\n",
    "              how = 'inner');\n",
    "\n",
    "print(df.head());"
   ]
  },
  {
   "cell_type": "markdown",
   "metadata": {},
   "source": [
    "## 3 Randomly divide the data into Train and test set in the ratio 80:20"
   ]
  },
  {
   "cell_type": "code",
   "execution_count": 8,
   "metadata": {},
   "outputs": [
    {
     "name": "stdout",
     "output_type": "stream",
     "text": [
      "     Unnamed: 0 Class    gene_0    gene_1    gene_2    gene_3     gene_4  \\\n",
      "364  sample_364  KIRC  0.000000  0.000000  2.275752  6.025051  10.181674   \n",
      "458  sample_458  KIRC  0.757450  1.915330  1.182565  6.282078   8.972058   \n",
      "76    sample_76  BRCA  0.000000  3.195537  2.275156  5.719778   9.145591   \n",
      "64    sample_64  PRAD  0.000000  2.949311  4.597877  7.095460   9.762425   \n",
      "638  sample_638  BRCA  0.000000  3.777693  3.417920  7.031164   9.960924   \n",
      "..          ...   ...       ...       ...       ...       ...        ...   \n",
      "763  sample_763  LUAD  0.000000  4.235061  4.218874  6.542637   8.981995   \n",
      "192  sample_192  LUAD  0.531868  3.755486  1.868963  6.726123  10.859449   \n",
      "629  sample_629  BRCA  0.000000  2.615675  1.855511  7.722616   9.798412   \n",
      "559  sample_559  KIRC  0.000000  2.736930  3.005256  6.358199   8.978988   \n",
      "684  sample_684  PRAD  0.000000  2.387197  4.344992  7.031561   9.868644   \n",
      "\n",
      "     gene_5    gene_6    gene_7  ...  gene_20521  gene_20522  gene_20523  \\\n",
      "364     0.0  6.112777  0.565890  ...    5.402804    7.875964   10.120121   \n",
      "458     0.0  5.440902  0.000000  ...    7.455081    8.825525   10.021993   \n",
      "76      0.0  7.333683  1.192762  ...    6.534924    9.382676    9.893725   \n",
      "64      0.0  6.493412  0.000000  ...    6.066335    9.048356   10.287493   \n",
      "638     0.0  8.119844  0.605020  ...    6.012622    9.200089   10.349337   \n",
      "..      ...       ...       ...  ...         ...         ...         ...   \n",
      "763     0.0  6.571407  0.000000  ...    6.318013    8.775600   10.591485   \n",
      "192     0.0  7.610154  0.000000  ...    4.884266    8.129752    9.938672   \n",
      "629     0.0  6.767575  0.000000  ...    5.255127    8.311212    9.200391   \n",
      "559     0.0  8.225689  1.639695  ...    6.656396    8.255959   10.476351   \n",
      "684     0.0  6.059669  0.000000  ...    5.879000    8.886654    9.937745   \n",
      "\n",
      "     gene_20524  gene_20525  gene_20526  gene_20527  gene_20528  gene_20529  \\\n",
      "364    2.412185    9.498614   12.894869   10.434430    9.048045    7.690501   \n",
      "458    4.769322   10.375094   11.470994   10.853918    9.552183    6.474248   \n",
      "76     7.298759    9.906667   11.913095    9.846816    9.708798    5.412016   \n",
      "64     6.026973   10.008611   10.621622   10.727623   10.216661    3.424841   \n",
      "638    7.662690   10.048705   11.122394   10.646865   10.228614    5.134455   \n",
      "..          ...         ...         ...         ...         ...         ...   \n",
      "763    1.459799   10.050706   10.911017   10.932503    9.151466    4.431035   \n",
      "192    6.847158    9.011046   11.632282    9.872284    9.073266    9.106317   \n",
      "629    7.574147    9.427313   12.247043    9.690719   10.272688    3.041138   \n",
      "559    3.982921    9.979982   11.819632   10.402042    9.403564    5.191721   \n",
      "684    3.871489    9.444742   11.083486    9.577850    9.307531    5.827441   \n",
      "\n",
      "     gene_20530  \n",
      "364    0.000000  \n",
      "458    0.000000  \n",
      "76     0.000000  \n",
      "64     0.000000  \n",
      "638    0.000000  \n",
      "..          ...  \n",
      "763    0.000000  \n",
      "192    0.000000  \n",
      "629    1.841007  \n",
      "559    0.000000  \n",
      "684    0.000000  \n",
      "\n",
      "[640 rows x 20533 columns]\n",
      "     Unnamed: 0 Class  gene_0    gene_1    gene_2    gene_3     gene_4  \\\n",
      "8      sample_8  BRCA     0.0  3.992125  2.772730  6.546692  10.488252   \n",
      "253  sample_253  BRCA     0.0  4.032383  3.544226  7.015382   9.726639   \n",
      "85    sample_85  PRAD     0.0  4.393910  5.578099  6.304062   9.335779   \n",
      "406  sample_406  BRCA     0.0  0.000000  2.532342  7.111699  11.355621   \n",
      "14    sample_14  BRCA     0.0  1.964842  2.183010  6.596832  10.248141   \n",
      "..          ...   ...     ...       ...       ...       ...        ...   \n",
      "48    sample_48  BRCA     0.0  3.768449  2.736172  6.698538  10.002281   \n",
      "210  sample_210  LUAD     0.0  2.352504  2.541366  6.823495  10.259614   \n",
      "338  sample_338  PRAD     0.0  2.889532  2.989956  6.999470  10.571174   \n",
      "473  sample_473  COAD     0.0  2.676696  0.000000  7.318823  10.005737   \n",
      "202  sample_202  KIRC     0.0  3.724989  2.398733  6.328896   9.768034   \n",
      "\n",
      "     gene_5    gene_6    gene_7  ...  gene_20521  gene_20522  gene_20523  \\\n",
      "8       0.0  7.690222  0.352307  ...    6.721974    9.597533    9.763753   \n",
      "253     0.0  9.417450  1.493647  ...    6.214214    8.917208   10.106026   \n",
      "85      0.0  7.994659  0.471031  ...    6.099455    8.889836   10.173740   \n",
      "406     0.0  9.025710  0.751549  ...    4.282195    7.572526   10.384482   \n",
      "14      0.0  7.087251  0.441483  ...    6.078847   10.829588   10.404567   \n",
      "..      ...       ...       ...  ...         ...         ...         ...   \n",
      "48      0.0  7.708953  0.768502  ...    7.128644   10.141775   10.382408   \n",
      "210     0.0  6.326269  0.000000  ...    5.198270    7.882233    8.963838   \n",
      "338     0.0  7.422317  0.000000  ...    5.247259    8.600983    9.878005   \n",
      "473     0.0  7.670437  0.535555  ...    6.048234    8.452254    9.713809   \n",
      "202     0.0  7.688523  0.335483  ...    6.973152    9.234736   11.000465   \n",
      "\n",
      "     gene_20524  gene_20525  gene_20526  gene_20527  gene_20528  gene_20529  \\\n",
      "8      7.933278   10.952880   12.498919   10.389954   10.390255    7.828321   \n",
      "253    7.517299   10.231905   12.161988   10.353037   10.243483    7.925590   \n",
      "85     6.863492    9.724811   11.775779   10.652388    9.644963    7.692037   \n",
      "406    7.556897    8.915655   12.882221   10.008134    9.134994    8.329124   \n",
      "14     6.588536    8.952596   10.461725   10.582857    9.488141    3.261967   \n",
      "..          ...         ...         ...         ...         ...         ...   \n",
      "48     7.328136    9.752237   11.369843    8.097774    9.028680    4.489042   \n",
      "210    5.740264    9.977638   12.356075    9.423801    9.575008    5.176171   \n",
      "338    7.987054    9.978382   11.302685    9.597213    9.534645    3.736334   \n",
      "473    0.535555    9.133173   12.899708   10.082508    8.774468    6.058000   \n",
      "202    6.163883    9.958519   11.450216   10.824991    8.954650    4.633908   \n",
      "\n",
      "     gene_20530  \n",
      "8      0.000000  \n",
      "253    0.000000  \n",
      "85     0.471031  \n",
      "406    0.000000  \n",
      "14     0.000000  \n",
      "..          ...  \n",
      "48     0.000000  \n",
      "210    0.000000  \n",
      "338    0.000000  \n",
      "473    0.000000  \n",
      "202    0.000000  \n",
      "\n",
      "[161 rows x 20533 columns]\n"
     ]
    }
   ],
   "source": [
    "from sklearn.model_selection import train_test_split;\n",
    "#X_train, X_test, y_train, y_test = train_test_split(data, \n",
    "#                                                    labels, \n",
    "#                                                    test_size=0.2, \n",
    "#                                                    random_state=0);\n",
    "\n",
    "data_train , data_test = train_test_split(df, test_size = 0.2, random_state = 0);\n",
    "print(data_train)\n",
    "print(data_test)"
   ]
  },
  {
   "cell_type": "markdown",
   "metadata": {},
   "source": [
    "## 4 Distribution Inspection"
   ]
  },
  {
   "cell_type": "code",
   "execution_count": 4,
   "metadata": {},
   "outputs": [
    {
     "data": {
      "image/png": "[encoded data removed]",
      "text/plain": [
       "<Figure size 432x288 with 1 Axes>"
      ]
     },
     "metadata": {},
     "output_type": "display_data"
    }
   ],
   "source": [
    "# pip install seaborn\n",
    "import seaborn as sns;\n",
    "sns.set(color_codes = True);\n",
    "\n",
    "sns.distplot(data_train.iloc[:,2:]);"
   ]
  },
  {
   "cell_type": "code",
   "execution_count": 5,
   "metadata": {},
   "outputs": [
    {
     "data": {
      "image/png": "[encoded data removed]",
      "text/plain": [
       "<Figure size 432x288 with 1 Axes>"
      ]
     },
     "metadata": {},
     "output_type": "display_data"
    }
   ],
   "source": [
    "from sklearn.preprocessing import StandardScaler;\n",
    "sc = StandardScaler()\n",
    "sc.fit(data_train.iloc[:,2:])\n",
    "data_train_std = sc.transform(data_train.iloc[:,2:])\n",
    "data_test_std = sc.transform(data_test.iloc[:,2:])\n",
    "\n",
    "sns.distplot(data_train_std);\n"
   ]
  },
  {
   "cell_type": "markdown",
   "metadata": {},
   "source": [
    "## 5 SVM Classifier for all combinations of 2 classes"
   ]
  },
  {
   "cell_type": "markdown",
   "metadata": {},
   "source": [
    "### Combinations"
   ]
  },
  {
   "cell_type": "code",
   "execution_count": 6,
   "metadata": {},
   "outputs": [
    {
     "name": "stdout",
     "output_type": "stream",
     "text": [
      "Class labels: ['BRCA' 'COAD' 'KIRC' 'LUAD' 'PRAD']\n",
      "\n",
      "COMBINATIONS :\n",
      "\t 1.  BRCA   COAD\n",
      "\t 2.  BRCA   KIRC\n",
      "\t 3.  BRCA   LUAD\n",
      "\t 4.  BRCA   PRAD\n",
      "\t 5.  COAD   KIRC\n",
      "\t 6.  COAD   LUAD\n",
      "\t 7.  COAD   PRAD\n",
      "\t 8.  KIRC   LUAD\n",
      "\t 9.  KIRC   PRAD\n",
      "\t10.  LUAD   PRAD\n"
     ]
    }
   ],
   "source": [
    "import numpy as np;\n",
    "print('Class labels:', np.unique(labels.iloc[:,1:]))\n",
    "class_lst = np.unique(labels.iloc[:,1:]);\n",
    "\n",
    "print(\"\\nCOMBINATIONS :\",);\n",
    "print(\"\\t 1. \", class_lst[0],\" \",class_lst[1]);\n",
    "print(\"\\t 2. \", class_lst[0],\" \",class_lst[2]);\n",
    "print(\"\\t 3. \", class_lst[0],\" \",class_lst[3]);\n",
    "print(\"\\t 4. \", class_lst[0],\" \",class_lst[4]);\n",
    "print(\"\\t 5. \", class_lst[1],\" \",class_lst[2]);\n",
    "print(\"\\t 6. \", class_lst[1],\" \",class_lst[3]);\n",
    "print(\"\\t 7. \", class_lst[1],\" \",class_lst[4]);\n",
    "print(\"\\t 8. \", class_lst[2],\" \",class_lst[3]);\n",
    "print(\"\\t 9. \", class_lst[2],\" \",class_lst[4]);\n",
    "print(\"\\t10. \", class_lst[3],\" \",class_lst[4]);\n",
    "                      "
   ]
  },
  {
   "cell_type": "code",
   "execution_count": 7,
   "metadata": {},
   "outputs": [],
   "source": [
    "brca_bool = (data_train['Class'] == 'BRCA');\n",
    "coad_bool = (data_train['Class'] == 'COAD');\n",
    "kirc_bool = (data_train['Class'] == 'KIRC');\n",
    "luad_bool = (data_train['Class'] == 'LUAD');\n",
    "prad_bool = (data_train['Class'] == 'PRAD');\n",
    "\n",
    "data_train_BRCA = data_train_std[brca_bool];\n",
    "data_train_COAD = data_train_std[coad_bool];\n",
    "data_train_KIRC = data_train_std[kirc_bool];\n",
    "data_train_LUAD = data_train_std[luad_bool];\n",
    "data_train_PRAD = data_train_std[prad_bool];\n",
    "\n",
    "y_train_BRCA = data_train.iloc[:,1][brca_bool];\n",
    "y_train_COAD = data_train.iloc[:,1][coad_bool];\n",
    "y_train_KIRC = data_train.iloc[:,1][kirc_bool];\n",
    "y_train_LUAD = data_train.iloc[:,1][luad_bool];\n",
    "y_train_PRAD = data_train.iloc[:,1][prad_bool];\n",
    "\n",
    "\n",
    "data_train01 = np.vstack((data_train_BRCA , data_train_COAD))\n",
    "data_train02 = np.vstack((data_train_BRCA , data_train_KIRC))\n",
    "data_train03 = np.vstack((data_train_BRCA , data_train_LUAD))\n",
    "data_train04 = np.vstack((data_train_BRCA , data_train_PRAD))\n",
    "data_train12 = np.vstack((data_train_COAD , data_train_KIRC))\n",
    "data_train13 = np.vstack((data_train_COAD , data_train_LUAD))\n",
    "data_train14 = np.vstack((data_train_COAD , data_train_PRAD))\n",
    "data_train23 = np.vstack((data_train_KIRC , data_train_LUAD))\n",
    "data_train24 = np.vstack((data_train_KIRC , data_train_PRAD))\n",
    "data_train34 = np.vstack((data_train_LUAD , data_train_PRAD))\n",
    "\n",
    "y_train01 = pd.concat([y_train_BRCA , y_train_COAD])\n",
    "y_train02 = pd.concat([y_train_BRCA , y_train_KIRC])\n",
    "y_train03 = pd.concat([y_train_BRCA , y_train_LUAD])\n",
    "y_train04 = pd.concat([y_train_BRCA , y_train_PRAD])\n",
    "y_train12 = pd.concat([y_train_COAD , y_train_KIRC])\n",
    "y_train13 = pd.concat([y_train_COAD , y_train_LUAD])\n",
    "y_train14 = pd.concat([y_train_COAD , y_train_PRAD])\n",
    "y_train23 = pd.concat([y_train_KIRC , y_train_LUAD])\n",
    "y_train24 = pd.concat([y_train_KIRC , y_train_PRAD])\n",
    "y_train34 = pd.concat([y_train_LUAD , y_train_PRAD])"
   ]
  },
  {
   "cell_type": "code",
   "execution_count": 8,
   "metadata": {},
   "outputs": [],
   "source": [
    "brca_bool_test = (data_test['Class'] == 'BRCA');\n",
    "coad_bool_test = (data_test['Class'] == 'COAD');\n",
    "kirc_bool_test = (data_test['Class'] == 'KIRC');\n",
    "luad_bool_test = (data_test['Class'] == 'LUAD');\n",
    "prad_bool_test = (data_test['Class'] == 'PRAD');\n",
    "\n",
    "data_test_BRCA = data_test_std[brca_bool_test];\n",
    "data_test_COAD = data_test_std[coad_bool_test];\n",
    "data_test_KIRC = data_test_std[kirc_bool_test];\n",
    "data_test_LUAD = data_test_std[luad_bool_test];\n",
    "data_test_PRAD = data_test_std[prad_bool_test];\n",
    "\n",
    "y_test_BRCA = data_test.iloc[:,1][brca_bool_test];\n",
    "y_test_COAD = data_test.iloc[:,1][coad_bool_test];\n",
    "y_test_KIRC = data_test.iloc[:,1][kirc_bool_test];\n",
    "y_test_LUAD = data_test.iloc[:,1][luad_bool_test];\n",
    "y_test_PRAD = data_test.iloc[:,1][prad_bool_test];\n",
    "\n",
    "data_test01 = np.vstack((data_test_BRCA , data_test_COAD))\n",
    "data_test02 = np.vstack((data_test_BRCA , data_test_KIRC))\n",
    "data_test03 = np.vstack((data_test_BRCA , data_test_LUAD))\n",
    "data_test04 = np.vstack((data_test_BRCA , data_test_PRAD))\n",
    "data_test12 = np.vstack((data_test_COAD , data_test_KIRC))\n",
    "data_test13 = np.vstack((data_test_COAD , data_test_LUAD))\n",
    "data_test14 = np.vstack((data_test_COAD , data_test_PRAD))\n",
    "data_test23 = np.vstack((data_test_KIRC , data_test_LUAD))\n",
    "data_test24 = np.vstack((data_test_KIRC , data_test_PRAD))\n",
    "data_test34 = np.vstack((data_test_LUAD , data_test_PRAD))\n",
    "\n",
    "y_test01 = pd.concat([y_test_BRCA , y_test_COAD])\n",
    "y_test02 = pd.concat([y_test_BRCA , y_test_KIRC])\n",
    "y_test03 = pd.concat([y_test_BRCA , y_test_LUAD])\n",
    "y_test04 = pd.concat([y_test_BRCA , y_test_PRAD])\n",
    "y_test12 = pd.concat([y_test_COAD , y_test_KIRC])\n",
    "y_test13 = pd.concat([y_test_COAD , y_test_LUAD])\n",
    "y_test14 = pd.concat([y_test_COAD , y_test_PRAD])\n",
    "y_test23 = pd.concat([y_test_KIRC , y_test_LUAD])\n",
    "y_test24 = pd.concat([y_test_KIRC , y_test_PRAD])\n",
    "y_test34 = pd.concat([y_test_LUAD , y_test_PRAD])\n"
   ]
  },
  {
   "cell_type": "code",
   "execution_count": 9,
   "metadata": {},
   "outputs": [],
   "source": [
    "from sklearn.svm import SVC;\n",
    "\n",
    "svm01 = SVC(kernel = \"rbf\", C = 1.0, random_state = 0);\n",
    "svm01.fit(data_train01, y_train01);\n",
    "\n",
    "svm02 = SVC(kernel = \"rbf\", C = 1.0, random_state = 0);\n",
    "svm02.fit(data_train02, y_train02);\n",
    "\n",
    "svm03 = SVC(kernel = \"rbf\", C = 1.0, random_state = 0);\n",
    "svm03.fit(data_train03 , y_train03);\n",
    "\n",
    "svm04 = SVC(kernel = \"rbf\", C = 1.0, random_state = 0);\n",
    "svm04.fit(data_train04, y_train04);\n",
    "\n",
    "svm12 = SVC(kernel = \"rbf\", C = 1.0, random_state = 0);\n",
    "svm12.fit(data_train12, y_train12);\n",
    "\n",
    "svm13 = SVC(kernel = \"rbf\", C = 1.0, random_state = 0);\n",
    "svm13.fit(data_train13, y_train13);\n",
    "\n",
    "svm14 = SVC(kernel = \"rbf\", C = 1.0, random_state = 0);\n",
    "svm14.fit(data_train14, y_train14);\n",
    "\n",
    "svm23 = SVC(kernel = \"rbf\", C = 1.0, random_state = 0);\n",
    "svm23.fit(data_train23, y_train23);\n",
    "\n",
    "svm24 = SVC(kernel = \"rbf\", C = 1.0, random_state = 0);\n",
    "svm24.fit(data_train24, y_train24);\n",
    "\n",
    "svm34 = SVC(kernel = \"rbf\", C = 1.0, random_state = 0);\n",
    "svm34.fit(data_train34, y_train34);"
   ]
  },
  {
   "cell_type": "markdown",
   "metadata": {},
   "source": [
    "## 6 Weight Matrix"
   ]
  },
  {
   "cell_type": "code",
   "execution_count": 10,
   "metadata": {},
   "outputs": [
    {
     "name": "stdout",
     "output_type": "stream",
     "text": [
      "[[-0.20680191 -2.53389798 -0.79848496 ... -0.95178507  1.05385861\n",
      "  -0.24865145]\n",
      " [ 4.86041305 -0.92157257 -1.84423579 ... -0.0571117   0.46829036\n",
      "  -0.24865145]\n",
      " [-0.20680191  0.1561062  -0.79905507 ...  0.22082625 -0.04312397\n",
      "  -0.24865145]\n",
      " ...\n",
      " [-0.20680191 -0.33202135 -1.20049037 ...  1.2215407  -1.18458949\n",
      "   4.47158555]\n",
      " [-0.20680191 -0.22994944 -0.10063572 ... -0.32086032 -0.14918577\n",
      "  -0.24865145]\n",
      " [-0.20680191 -0.52435437  1.18096544 ... -0.49128611  0.15688328\n",
      "  -0.24865145]]\n",
      "Weight Matrix :\n",
      "[[ 1.44299134e-05 -5.51741390e-05 -1.84568842e-05 ...  1.72470756e-04\n",
      "   2.87649548e-04 -3.39748575e-05]\n",
      " [-5.59770747e-05  2.10751563e-04  1.27160972e-04 ...  7.29020950e-05\n",
      "   2.67553136e-04 -5.50317810e-05]\n",
      " [-1.27341542e-04 -3.86050467e-05 -1.84153614e-04 ...  1.03047394e-04\n",
      "   5.68588850e-04 -1.36766825e-04]\n",
      " ...\n",
      " [ 3.38803038e-05 -3.33920081e-04 -2.46955602e-04 ...  1.06879172e-05\n",
      "  -2.54068406e-05  6.07309905e-05]\n",
      " [-4.11079229e-05 -1.48046111e-04 -2.86747460e-04 ... -3.46494229e-05\n",
      "   1.94180247e-05  1.31348788e-04]\n",
      " [ 5.67350412e-05  1.09058244e-04 -6.29209310e-05 ... -1.57114751e-04\n",
      "  -1.23693153e-04  1.41735962e-04]]\n"
     ]
    }
   ],
   "source": [
    "#import matplotlib.pyplot as plt\n",
    "Xw = np.array(data_train_std);\n",
    "print(Xw);\n",
    "#%matplotlib inline\n",
    "svm_w = SVC(kernel = \"linear\", C=1e10, random_state = 0);\n",
    "svm_w.fit(Xw, data_train.iloc[:,1]);\n",
    "W=svm_w.coef_;\n",
    "#W=W.flatten();\n",
    "print(\"Weight Matrix :\");\n",
    "print(W)\n",
    "#plt.stem(W, use_line_collection = False);"
   ]
  },
  {
   "cell_type": "markdown",
   "metadata": {},
   "source": [
    "## 7 Accuracy on train and test set"
   ]
  },
  {
   "cell_type": "code",
   "execution_count": 11,
   "metadata": {},
   "outputs": [
    {
     "name": "stdout",
     "output_type": "stream",
     "text": [
      "1.0\n",
      "1.0\n",
      "\n",
      "1.0\n",
      "1.0\n",
      "\n",
      "1.0\n",
      "1.0\n",
      "\n",
      "0.9891304347826086\n",
      "1.0\n",
      "\n",
      "1.0\n",
      "1.0\n",
      "\n",
      "1.0\n",
      "1.0\n",
      "\n",
      "1.0\n",
      "1.0\n",
      "\n",
      "1.0\n",
      "1.0\n",
      "\n",
      "1.0\n",
      "1.0\n",
      "\n",
      "1.0\n",
      "1.0\n",
      "\n"
     ]
    }
   ],
   "source": [
    "from sklearn.metrics import accuracy_score;\n",
    "y_pred_test01 = svm01.predict(data_test01)\n",
    "print(accuracy_score(y_test01, y_pred_test01))\n",
    "y_pred_train01 = svm01.predict(data_train01)\n",
    "print(accuracy_score(y_train01, y_pred_train01))\n",
    "print();\n",
    "\n",
    "y_pred_test02 = svm02.predict(data_test02)\n",
    "print(accuracy_score(y_test02, y_pred_test02))\n",
    "y_pred_train02 = svm02.predict(data_train02)\n",
    "print(accuracy_score(y_train02, y_pred_train02))\n",
    "print();\n",
    "\n",
    "y_pred_test03 = svm03.predict(data_test03)\n",
    "print(accuracy_score(y_test03, y_pred_test03))\n",
    "y_pred_train03 = svm03.predict(data_train03)\n",
    "print(accuracy_score(y_train03, y_pred_train03))\n",
    "print();\n",
    "\n",
    "y_pred_test04 = svm04.predict(data_test04)\n",
    "print(accuracy_score(y_test04, y_pred_test04))\n",
    "y_pred_train04 = svm04.predict(data_train04)\n",
    "print(accuracy_score(y_train04, y_pred_train04))\n",
    "print();\n",
    "\n",
    "y_pred_test12 = svm12.predict(data_test12)\n",
    "print(accuracy_score(y_test12, y_pred_test12))\n",
    "y_pred_train12 = svm12.predict(data_train12)\n",
    "print(accuracy_score(y_train12, y_pred_train12))\n",
    "print();\n",
    "\n",
    "y_pred_test13 = svm13.predict(data_test13)\n",
    "print(accuracy_score(y_test13, y_pred_test13))\n",
    "y_pred_train13 = svm13.predict(data_train13)\n",
    "print(accuracy_score(y_train13, y_pred_train13))\n",
    "print();\n",
    "\n",
    "y_pred_test14 = svm14.predict(data_test14)\n",
    "print(accuracy_score(y_test14, y_pred_test14))\n",
    "y_pred_train14 = svm14.predict(data_train14)\n",
    "print(accuracy_score(y_train14, y_pred_train14))\n",
    "print();\n",
    "\n",
    "y_pred_test23 = svm23.predict(data_test23)\n",
    "print(accuracy_score(y_test23, y_pred_test23))\n",
    "y_pred_train23 = svm23.predict(data_train23)\n",
    "print(accuracy_score(y_train23, y_pred_train23))\n",
    "print();\n",
    "\n",
    "y_pred_test24 = svm24.predict(data_test24)\n",
    "print(accuracy_score(y_test24, y_pred_test24))\n",
    "y_pred_train24 = svm24.predict(data_train24)\n",
    "print(accuracy_score(y_train24, y_pred_train24))\n",
    "print();\n",
    "\n",
    "y_pred_test34 = svm34.predict(data_test34)\n",
    "print(accuracy_score(y_test34, y_pred_test34))\n",
    "y_pred_train34 = svm34.predict(data_train34)\n",
    "print(accuracy_score(y_train34, y_pred_train34))\n",
    "print();"
   ]
  },
  {
   "cell_type": "markdown",
   "metadata": {},
   "source": [
    "Most of the accuraccies seem to be one except for the test for scenario 04 (BRCA PRAD). This happens whether I change the kernel or the C. The train accuracy is the accuracy of a model on examples it was constructed on. The test accuracy is the accuracy of a model on examples it hasn't seen. The test and train accuracies are the same here. It was read that in confusion matrices that a large difference in accuracies in the train and test data would suggest overfitting."
   ]
  },
  {
   "cell_type": "markdown",
   "metadata": {},
   "source": [
    "## 8 SVM classifier to predict all the classes"
   ]
  },
  {
   "cell_type": "code",
   "execution_count": 12,
   "metadata": {},
   "outputs": [
    {
     "name": "stdout",
     "output_type": "stream",
     "text": [
      "364    KIRC\n",
      "458    KIRC\n",
      "76     BRCA\n",
      "64     PRAD\n",
      "638    BRCA\n",
      "       ... \n",
      "763    LUAD\n",
      "192    LUAD\n",
      "629    BRCA\n",
      "559    KIRC\n",
      "684    PRAD\n",
      "Name: Class, Length: 640, dtype: object\n",
      "0.9937888198757764\n",
      "1.0\n"
     ]
    }
   ],
   "source": [
    "svm = SVC(kernel = \"rbf\", C = 1.0, random_state = 0);\n",
    "svm.fit(data_train_std, data_train.iloc[:,1]);\n",
    "print(data_train.iloc[:,1])\n",
    "\n",
    "y_pred_test = svm.predict(data_test_std,)\n",
    "print(accuracy_score(data_test.iloc[:,1], y_pred_test))\n",
    "y_pred_train = svm.predict(data_train_std,)\n",
    "print(accuracy_score(data_train.iloc[:,1], y_pred_train))"
   ]
  },
  {
   "cell_type": "markdown",
   "metadata": {},
   "source": [
    "## 9 Tuning SVM model with various parameters (kernel, regularization (c) , GAMMA, and margin)"
   ]
  },
  {
   "cell_type": "code",
   "execution_count": 13,
   "metadata": {},
   "outputs": [
    {
     "name": "stdout",
     "output_type": "stream",
     "text": [
      "0.9937888198757764\n",
      "1.0\n",
      "1.0\n",
      "1.0\n",
      "0.9937888198757764\n",
      "1.0\n"
     ]
    }
   ],
   "source": [
    "## CHANGING C\n",
    "svm_m = SVC(kernel = \"rbf\", C = 1000, random_state = 0);\n",
    "svm_m.fit(data_train_std, data_train.iloc[:,1]);\n",
    "\n",
    "y_pred_test = svm_m.predict(data_test_std,)\n",
    "print(accuracy_score(data_test.iloc[:,1], y_pred_test))\n",
    "y_pred_train = svm_m.predict(data_train_std,)\n",
    "print(accuracy_score(data_train.iloc[:,1], y_pred_train))\n",
    "\n",
    "## CHANGING KERNEL\n",
    "svm_m = SVC(kernel = 'sigmoid', C = 1.0, random_state = 0); # linear also gives 1\n",
    "svm_m.fit(data_train_std, data_train.iloc[:,1]);\n",
    "\n",
    "y_pred_test = svm_m.predict(data_test_std,)\n",
    "print(accuracy_score(data_test.iloc[:,1], y_pred_test))\n",
    "y_pred_train = svm_m.predict(data_train_std,)\n",
    "print(accuracy_score(data_train.iloc[:,1], y_pred_train))\n",
    "\n",
    "## CHANGING GAMMA\n",
    "svm_m = SVC(kernel = \"rbf\", C = 1.0, random_state = 0, gamma = 'auto');\n",
    "svm_m.fit(data_train_std, data_train.iloc[:,1]);\n",
    "\n",
    "y_pred_test = svm_m.predict(data_test_std,)\n",
    "print(accuracy_score(data_test.iloc[:,1], y_pred_test))\n",
    "y_pred_train = svm_m.predict(data_train_std,)\n",
    "print(accuracy_score(data_train.iloc[:,1], y_pred_train))"
   ]
  },
  {
   "cell_type": "markdown",
   "metadata": {},
   "source": [
    "The accuracies still seem high. If anything, a very high c value and implementing gamma seem to slightly lower the accuracy of the test subset."
   ]
  },
  {
   "cell_type": "markdown",
   "metadata": {},
   "source": [
    "## 10 Logistic regression model (L1 regularization) comparison"
   ]
  },
  {
   "cell_type": "code",
   "execution_count": 14,
   "metadata": {},
   "outputs": [
    {
     "name": "stdout",
     "output_type": "stream",
     "text": [
      "1.0\n"
     ]
    }
   ],
   "source": [
    "from sklearn.linear_model import LogisticRegression\n",
    "lr = LogisticRegression(penalty = 'l1', solver = \"liblinear\", C = 1.0, random_state = 0);\n",
    "lr.fit(data_train_std, data_train.iloc[:,1]);\n",
    "\n",
    "y_hat = lr.predict(data_train_std);\n",
    "accuracy = np.mean(y_hat == data_train.iloc[:,1])\n",
    "print(accuracy)"
   ]
  },
  {
   "cell_type": "markdown",
   "metadata": {},
   "source": [
    "Linear logistic regression and SVMs usually get similar results.\n",
    "\n",
    "LR tries to maximize the conditional likelihoods of the training data, which makes it more prone to outliers than SVMs.\n",
    "\n",
    "SVMs cares more about the points that are closest to the decision boundary (support vectors). \n",
    "\n",
    "LR is advantagous in that it is a simpler model - making it easier to implement. LR models can also be easily updated making it better to work with streaming data.\n",
    "\n",
    "It was also learned that SVM works well with unstructured and semi-structured data like text and images while logistic regression works with already identified independent variables. SVM is based on geometrical properties of the data while logistic regression is based on statistical approaches.\n",
    "For this reason, LR might perform better than SVM in this case."
   ]
  },
  {
   "cell_type": "markdown",
   "metadata": {},
   "source": [
    "## 11 Weight comparison of SVM model and L1 regularized logistic regression"
   ]
  },
  {
   "cell_type": "code",
   "execution_count": 15,
   "metadata": {},
   "outputs": [
    {
     "name": "stdout",
     "output_type": "stream",
     "text": [
      "svm weight matrix :\n",
      "[[ 1.44299134e-05 -5.51741390e-05 -1.84568842e-05 ...  1.72470756e-04\n",
      "   2.87649548e-04 -3.39748575e-05]\n",
      " [-5.59770747e-05  2.10751563e-04  1.27160972e-04 ...  7.29020950e-05\n",
      "   2.67553136e-04 -5.50317810e-05]\n",
      " [-1.27341542e-04 -3.86050467e-05 -1.84153614e-04 ...  1.03047394e-04\n",
      "   5.68588850e-04 -1.36766825e-04]\n",
      " ...\n",
      " [ 3.38803038e-05 -3.33920081e-04 -2.46955602e-04 ...  1.06879172e-05\n",
      "  -2.54068406e-05  6.07309905e-05]\n",
      " [-4.11079229e-05 -1.48046111e-04 -2.86747460e-04 ... -3.46494229e-05\n",
      "   1.94180247e-05  1.31348788e-04]\n",
      " [ 5.67350412e-05  1.09058244e-04 -6.29209310e-05 ... -1.57114751e-04\n",
      "  -1.23693153e-04  1.41735962e-04]]\n",
      "\n",
      " [[-0.20680191 -2.53389798 -0.79848496 ... -0.95178507  1.05385861\n",
      "  -0.24865145]\n",
      " [ 4.86041305 -0.92157257 -1.84423579 ... -0.0571117   0.46829036\n",
      "  -0.24865145]\n",
      " [-0.20680191  0.1561062  -0.79905507 ...  0.22082625 -0.04312397\n",
      "  -0.24865145]\n",
      " ...\n",
      " [-0.20680191 -0.33202135 -1.20049037 ...  1.2215407  -1.18458949\n",
      "   4.47158555]\n",
      " [-0.20680191 -0.22994944 -0.10063572 ... -0.32086032 -0.14918577\n",
      "  -0.24865145]\n",
      " [-0.20680191 -0.52435437  1.18096544 ... -0.49128611  0.15688328\n",
      "  -0.24865145]] \n",
      "\n",
      "LR weight matrix :\n",
      "[[-1.82601009e-03 -2.44419618e-03 -3.26493456e-03 ...  3.13353305e-03\n",
      "   5.86462485e-03  3.79328644e-05]\n",
      " [-1.95478396e-04  1.16276628e-03 -1.69272292e-05 ... -1.47393276e-03\n",
      "  -2.04237389e-03 -4.10379323e-04]\n",
      " [ 1.01160109e-03 -3.13023277e-03 -3.66800229e-03 ... -1.12407417e-03\n",
      "  -1.37231733e-03  9.01280857e-04]\n",
      " [ 8.18241630e-04  2.06218712e-03  2.35913930e-03 ... -1.66651635e-03\n",
      "  -3.18593978e-03  6.15624041e-04]\n",
      " [ 1.91645768e-04  2.34947556e-03  4.59072477e-03 ...  1.13099023e-03\n",
      "   7.36006148e-04 -1.14445844e-03]]\n"
     ]
    }
   ],
   "source": [
    "print(\"svm weight matrix :\")\n",
    "print(W);\n",
    "#import matplotlib.pyplot as plt\n",
    "Xw = np.array(data_train_std);\n",
    "print(\"\\n\", Xw, \"\\n\");\n",
    "#%matplotlib inline\n",
    "logreg_w = LogisticRegression(C=1e10);\n",
    "logreg_w.fit(Xw, data_train.iloc[:,1]);\n",
    "W2=logreg_w.coef_;\n",
    "#W2=W2.flatten();\n",
    "print(\"LR weight matrix :\")\n",
    "print(W2)\n",
    "#plt.stem(W, use_line_collection = False);"
   ]
  },
  {
   "cell_type": "markdown",
   "metadata": {},
   "source": [
    "Comparing the weights of the svm and the LR for all of the classes, it can be seen that the weights for the LR model is higher (abs value). This suggests that the labels contribute more\n",
    "heavily in the LR model than the svm."
   ]
  },
  {
   "cell_type": "code",
   "execution_count": null,
   "metadata": {},
   "outputs": [],
   "source": []
  }
 ],
 "metadata": {
  "celltoolbar": "Raw Cell Format",
  "kernelspec": {
   "display_name": "Python 3",
   "language": "python",
   "name": "python3"
  },
  "language_info": {
   "codemirror_mode": {
    "name": "ipython",
    "version": 3
   },
   "file_extension": ".py",
   "mimetype": "text/x-python",
   "name": "python",
   "nbconvert_exporter": "python",
   "pygments_lexer": "ipython3",
   "version": "3.7.4"
  }
 },
 "nbformat": 4,
 "nbformat_minor": 4
}
